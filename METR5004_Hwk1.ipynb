{
 "cells": [
  {
   "cell_type": "code",
   "execution_count": 5,
   "metadata": {
    "collapsed": true
   },
   "outputs": [],
   "source": [
    "# Import the libraries you will need\n",
    "\n",
    "import matplotlib.pylab as plt\n",
    "import numpy as np\n",
    "from scipy.stats import norm\n",
    "\n",
    "# Set this param to help make the plot....\n",
    "\n",
    "_scale = 8.0\n"
   ]
  },
  {
   "cell_type": "code",
   "execution_count": 6,
   "metadata": {
    "collapsed": true
   },
   "outputs": [],
   "source": [
    "# In this cell there are 3 functions\n",
    "#\n",
    "# PDF3 generates the synthetic data - use this to create the synthetic data and the truth for verification for a \n",
    "#      point in the domain\n",
    "#\n",
    "# GEN_DATA creates a set of \"observations\" that you will analyze to a grid\n",
    "#\n",
    "# FIND_X_INDEX:  for a given single location \"x\", it will find the nearest grid point in an ascending before \n",
    "#                the location.  I.e., that xg_sorted[index] < x < xg_sorted[index+1]\n",
    "\n",
    "def pdf3(x):\n",
    "    #initialize 3 different normal distributions and sum\n",
    "    rv = norm(loc = -2., scale = 1.0)\n",
    "    rv1 = norm(loc = 0., scale = 2.0)\n",
    "    rv2 = norm(loc = 2., scale = 0.8)\n",
    "\n",
    "    return rv.pdf(x) + rv1.pdf(x) + rv2.pdf(x)\n",
    "\n",
    "def gen_data(npoints=10, scale=_scale):\n",
    "    np.random.seed(1)\n",
    "    xp = scale*np.random.uniform(-1.0,1.0,size=npoints)\n",
    "    xp = np.insert(xp, 0,[-scale])\n",
    "    xp = np.append(xp, [scale])\n",
    "    xp = np.sort(xp)\n",
    "    return xp, pdf3(xp)\n",
    "\n",
    "def find_x_index(x, xg_sorted):\n",
    "    index = np.where(xg_sorted > x)\n",
    "    if len(index) == 0:\n",
    "        print(\"no index found\")\n",
    "        print(x, xrandom[0], xrandom[-1])\n",
    "        return None\n",
    "    else:\n",
    "        return index[0][0]-1\n",
    "    \n",
    "    "
   ]
  },
  {
   "cell_type": "code",
   "execution_count": 8,
   "metadata": {
    "collapsed": false
   },
   "outputs": [
    {
     "data": {
      "image/png": "[encoded data removed]",
      "text/plain": [
       "<matplotlib.figure.Figure at 0x10d465e10>"
      ]
     },
     "metadata": {},
     "output_type": "display_data"
    }
   ],
   "source": [
    "#  Here is what the synthetic data looks like...\n",
    "xtruth = np.arange(-_scale, _scale+.1, .1)\n",
    "ftruth = pdf3(xtruth)\n",
    "\n",
    "# plot the synthetic data... \n",
    "plt.plot(xtruth, ftruth, color='k')\n",
    "plt.show()"
   ]
  },
  {
   "cell_type": "code",
   "execution_count": 1,
   "metadata": {
    "collapsed": false
   },
   "outputs": [],
   "source": [
    "# Here write code using gen_data to generate 60 points of synthetic data that will be located in a uniform random along\n",
    "# the X-axis.\n",
    "\n",
    "\n",
    "# Plot the data using the plt.scatter() function in pylab...\n",
    "#\n",
    "\n"
   ]
  },
  {
   "cell_type": "code",
   "execution_count": 2,
   "metadata": {
    "collapsed": false
   },
   "outputs": [],
   "source": [
    "# The interpolation grid is from -7 to 7 at a dx=0.25\n",
    "# Create an array, and the \"truth\" array.  I have set the problem up so that the synthetic data is defined beyond \n",
    "# limits of the interpolation grid, which should make things easy for you.\n",
    "\n",
    "\n",
    "# Write a linear interpolation loop to interpolate the random synthetic data from the previous cell to \n",
    "# the regular grid.\n",
    "\n",
    "\n",
    "# Compute an RMS value by differencing the field from the linear interpolation to the truth field and using the numpy\n",
    "# \"var()\" intrinsic.  Plot the truth and the linearly interpolated value on a line plot.  Put the RMS values in \n",
    "# title of the plot.  Label this plot \"Linear\"\n",
    "\n",
    "\n",
    "# Hint:  the RMS value I got was 0.0009"
   ]
  },
  {
   "cell_type": "code",
   "execution_count": 3,
   "metadata": {
    "collapsed": false
   },
   "outputs": [],
   "source": [
    "# Using the same grid as in the previous cell, write a Cressman analysis scheme (1-pass) using an raduis of influence\n",
    "# of 2.0.  Label this plot \"Cressman\"\n",
    "\n",
    "\n",
    "# Compute an RMS value by differencing the field from the linear interpolation to the truth field and using the numpy\n",
    "# \"var()\" intrinsic.  Plot the truth and the linearly interpolated value on a line plot.  Put the RMS values in \n",
    "# title of the plot.\n",
    "\n",
    "\n",
    "# Try playing with different values of ROI.\n",
    "\n",
    "\n",
    "# Hint:  the RMS value I got was 0.0082"
   ]
  }
 ],
 "metadata": {
  "kernelspec": {
   "display_name": "Python 2",
   "language": "python",
   "name": "python2"
  },
  "language_info": {
   "codemirror_mode": {
    "name": "ipython",
    "version": 2
   },
   "file_extension": ".py",
   "mimetype": "text/x-python",
   "name": "python",
   "nbconvert_exporter": "python",
   "pygments_lexer": "ipython2",
   "version": "2.7.14"
  }
 },
 "nbformat": 4,
 "nbformat_minor": 2
}
